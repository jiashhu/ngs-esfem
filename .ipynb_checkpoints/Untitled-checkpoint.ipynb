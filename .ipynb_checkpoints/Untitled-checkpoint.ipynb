{
 "cells": [
  {
   "cell_type": "code",
   "execution_count": 1,
   "id": "2b9be721",
   "metadata": {},
   "outputs": [],
   "source": [
    "from ngsolve import *"
   ]
  },
  {
   "cell_type": "code",
   "execution_count": 2,
   "id": "45fd44fa",
   "metadata": {},
   "outputs": [],
   "source": [
    "import numpy as np"
   ]
  },
  {
   "cell_type": "code",
   "execution_count": 44,
   "id": "6fe4f70c",
   "metadata": {},
   "outputs": [],
   "source": [
    "import matplotlib.pyplot as plt"
   ]
  },
  {
   "cell_type": "code",
   "execution_count": 3,
   "id": "973629db",
   "metadata": {},
   "outputs": [],
   "source": [
    "import sys\n",
    "sys.path.append('/Users/liubocheng/Documents/PythonPackage/FEMGeoPackage/')"
   ]
  },
  {
   "cell_type": "code",
   "execution_count": 4,
   "id": "c9b6fb3b",
   "metadata": {},
   "outputs": [
    {
     "data": {
      "text/plain": [
       "<module 'Package_Geometry_Obj' from '/Users/liubocheng/Documents/PythonPackage/FEMGeoPackage/Package_Geometry_Obj/__init__.py'>"
      ]
     },
     "execution_count": 4,
     "metadata": {},
     "output_type": "execute_result"
    }
   ],
   "source": [
    "from importlib import reload \n",
    "import Package_Geometry_Obj\n",
    "reload(Package_Geometry_Obj)"
   ]
  },
  {
   "cell_type": "code",
   "execution_count": 5,
   "id": "6671592d",
   "metadata": {},
   "outputs": [],
   "source": [
    "from Package_Geometry_Obj import *"
   ]
  },
  {
   "cell_type": "code",
   "execution_count": 10,
   "id": "e587364b",
   "metadata": {},
   "outputs": [],
   "source": [
    "Coords = np.array([[ii,0] for ii in np.linspace(0,1,10)])"
   ]
  },
  {
   "cell_type": "code",
   "execution_count": 11,
   "id": "a6acea8a",
   "metadata": {},
   "outputs": [],
   "source": [
    "mymesh = Mesh1dFromPoints(Coords, dim = 1, adim = 1, Circ=False)"
   ]
  },
  {
   "cell_type": "code",
   "execution_count": 14,
   "id": "a301e48f",
   "metadata": {},
   "outputs": [],
   "source": [
    "t = Parameter(1)\n",
    "u_exact = x*(1-x)*exp(-2*t)"
   ]
  },
  {
   "cell_type": "code",
   "execution_count": 25,
   "id": "453faf2e",
   "metadata": {},
   "outputs": [],
   "source": [
    "order = 1 \n",
    "fes = H1(mymesh,order = order, dirichlet=mymesh.Boundaries(\".*\"))\n",
    "u,v = fes.TnT()\n",
    "Lhs = BilinearForm(fes)\n",
    "Rhs = LinearForm(fes)"
   ]
  },
  {
   "cell_type": "code",
   "execution_count": 26,
   "id": "06e9a44f",
   "metadata": {},
   "outputs": [],
   "source": [
    "tauval = 2**(-4)\n",
    "tau = Parameter(tauval)"
   ]
  },
  {
   "cell_type": "code",
   "execution_count": 24,
   "id": "d891372e",
   "metadata": {},
   "outputs": [],
   "source": [
    "u_sol = GridFunction(fes)\n",
    "u_sol_old = GridFunction(fes)"
   ]
  },
  {
   "cell_type": "markdown",
   "id": "7f2f7963",
   "metadata": {},
   "source": [
    "\\begin{align}\n",
    "u^{n+1}-u^n = \\tau \\partial_x^2 u^{n+1}\n",
    "\\end{align}\n",
    "Or in bilinear form\n",
    "\\begin{align}\n",
    "\\frac1\\tau(u^{n+1},v) + (\\partial_x u^{n+1}, \\partial_x v) = \\frac1\\tau(u^n,v)\n",
    "\\end{align}"
   ]
  },
  {
   "cell_type": "code",
   "execution_count": 53,
   "id": "4bead579",
   "metadata": {},
   "outputs": [],
   "source": [
    "Lhs += 1/tau*u*v*dx + grad(u)*grad(v)*dx \n",
    "Rhs += 1/tau*u_sol_old*v*dx"
   ]
  },
  {
   "cell_type": "code",
   "execution_count": 54,
   "id": "0fe0e8c6",
   "metadata": {},
   "outputs": [],
   "source": [
    "T = 1"
   ]
  },
  {
   "cell_type": "code",
   "execution_count": 55,
   "id": "56dffb55",
   "metadata": {},
   "outputs": [
    {
     "name": "stdout",
     "output_type": "stream",
     "text": [
      "[0.00000000e+00 5.80088535e-10 1.09020983e-09 1.46883573e-09\n",
      " 1.67029837e-09 1.67029837e-09 1.46883573e-09 1.09020983e-09\n",
      " 5.80088535e-10 0.00000000e+00]\n",
      "1.0\n"
     ]
    }
   ],
   "source": [
    "tnow = 0\n",
    "t.Set(tnow)\n",
    "print(u_sol_old.vec.FV().NumPy())\n",
    "Lhs.Assemble()\n",
    "while tnow < T and abs(T-tnow)>1e-8:\n",
    "    Rhs.Assemble()\n",
    "    u_sol.vec.data = Lhs.mat.Inverse(inverse=\"pardiso\",freedofs=fes.FreeDofs())*Rhs.vec\n",
    "    u_sol_old.vec.data = u_sol.vec\n",
    "    tnow += tauval\n",
    "print(tnow)"
   ]
  },
  {
   "cell_type": "code",
   "execution_count": 56,
   "id": "8a124efb",
   "metadata": {},
   "outputs": [
    {
     "data": {
      "text/plain": [
       "[<matplotlib.lines.Line2D at 0x7f854034d130>]"
      ]
     },
     "execution_count": 56,
     "metadata": {},
     "output_type": "execute_result"
    },
    {
     "data": {
      "image/png": "[encoded data removed]",
      "text/plain": [
       "<Figure size 640x480 with 1 Axes>"
      ]
     },
     "metadata": {},
     "output_type": "display_data"
    }
   ],
   "source": [
    "x_spatial = Coords[:,0]\n",
    "plt.plot(x_spatial,x_spatial*(1-x_spatial)*exp(-2*T),'k-')\n",
    "plt.plot(x_spatial,u_sol.vec.FV().NumPy(),'r-')"
   ]
  },
  {
   "cell_type": "code",
   "execution_count": null,
   "id": "20e57ebe",
   "metadata": {},
   "outputs": [],
   "source": []
  }
 ],
 "metadata": {
  "kernelspec": {
   "display_name": "Python 3 (ipykernel)",
   "language": "python",
   "name": "python3"
  },
  "language_info": {
   "codemirror_mode": {
    "name": "ipython",
    "version": 3
   },
   "file_extension": ".py",
   "mimetype": "text/x-python",
   "name": "python",
   "nbconvert_exporter": "python",
   "pygments_lexer": "ipython3",
   "version": "3.8.10"
  }
 },
 "nbformat": 4,
 "nbformat_minor": 5
}
