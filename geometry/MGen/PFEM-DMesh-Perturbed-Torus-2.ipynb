{
 "cells": [
  {
   "cell_type": "markdown",
   "id": "22270645",
   "metadata": {},
   "source": [
    "## 生成高阶曲面\n",
    "\n",
    "对于奇怪的，但是具有参数表达式的曲面，生成高阶网格"
   ]
  },
  {
   "cell_type": "code",
   "execution_count": 1,
   "id": "0c50adc0",
   "metadata": {},
   "outputs": [],
   "source": [
    "from ngsolve import *"
   ]
  },
  {
   "cell_type": "code",
   "execution_count": 2,
   "id": "65a9473e",
   "metadata": {},
   "outputs": [],
   "source": [
    "# from netgen.csg import Pnt,SplineCurve2d,CSGeometry,Revolution,Sphere\n",
    "import numpy as np\n",
    "import netgen.meshing as ngm\n",
    "from netgen.csg import *\n",
    "from netgen.meshing import MeshingStep\n",
    "from ngsolve.comp import IntegrationRuleSpaceSurface"
   ]
  },
  {
   "cell_type": "code",
   "execution_count": 3,
   "id": "51f6c7e7",
   "metadata": {},
   "outputs": [],
   "source": [
    "from es_utils import pos_transformer, SurfacehInterp"
   ]
  },
  {
   "cell_type": "code",
   "execution_count": 4,
   "id": "a7285308",
   "metadata": {},
   "outputs": [],
   "source": [
    "from geometry import *"
   ]
  },
  {
   "cell_type": "code",
   "execution_count": 5,
   "id": "2dea5d27",
   "metadata": {},
   "outputs": [],
   "source": [
    "from esfem import WillMoreMDR"
   ]
  },
  {
   "cell_type": "code",
   "execution_count": 6,
   "id": "86a62892",
   "metadata": {},
   "outputs": [],
   "source": [
    "from ngsolve.webgui import Draw"
   ]
  },
  {
   "cell_type": "code",
   "execution_count": 7,
   "id": "534a8f97",
   "metadata": {},
   "outputs": [],
   "source": [
    "from ngsolve import Mesh"
   ]
  },
  {
   "cell_type": "code",
   "execution_count": 8,
   "id": "7efc7558",
   "metadata": {},
   "outputs": [],
   "source": [
    "from netgen.occ import SplineApproximation, Pnt, Axis, Face, Wire, Segment, Revolve, OCCGeometry, Z, X, Y\n",
    "#%% Construction of Initial Curved Mesh\n",
    "dim = 3\n",
    "order = 2\n",
    "msize = 0.1\n",
    "dt = Parameter(0)"
   ]
  },
  {
   "cell_type": "code",
   "execution_count": 9,
   "id": "00e26989",
   "metadata": {},
   "outputs": [],
   "source": [
    "def GetRotFace(CurveFunc,msize,T_min=-np.pi/2,T_max=np.pi/2,axis=Z,is_close=False,n=100):\n",
    "    '''\n",
    "        Generate Rotational Mesh by revolving a 2d curve (CurveFunc) around an axis (axis)\n",
    "        CurveFunc: function of phi, return (x(phi), 0, z(phi)) for example\n",
    "        axis: axis of rotation, default z-axis: curve on x-z plane around z-axis\n",
    "        is_close: whether the curve is closed (first point = last point)\n",
    "        n: number of points on the curve\n",
    "        T_min, T_max: parameter range of the curve\n",
    "        msize: mesh size\n",
    "        return: mesh \n",
    "    '''\n",
    "    pnts = [CurveFunc(phi) for phi in np.linspace(T_min,T_max,n)]\n",
    "    spline = SplineApproximation(pnts, tol=1e-4)\n",
    "    f = Face(Wire([spline]))\n",
    "    return f"
   ]
  },
  {
   "cell_type": "code",
   "execution_count": 10,
   "id": "613b1b85",
   "metadata": {},
   "outputs": [],
   "source": [
    "def BaseTorus(phi): \n",
    "    a = 0.65\n",
    "    z = a*np.sin(phi)\n",
    "    res = Pnt(1+a*np.cos(phi), 0, z)\n",
    "    return res"
   ]
  },
  {
   "cell_type": "markdown",
   "id": "407fc3d0",
   "metadata": {},
   "source": [
    "### Step 1: 生成低阶网格"
   ]
  },
  {
   "cell_type": "code",
   "execution_count": 11,
   "id": "a03ee616",
   "metadata": {},
   "outputs": [],
   "source": [
    "f = GetRotFace(BaseTorus,0.08,T_min=np.pi,\n",
    "                  T_max=3*np.pi,axis=Z,is_close=True)"
   ]
  },
  {
   "cell_type": "code",
   "execution_count": 12,
   "id": "2a78339a",
   "metadata": {},
   "outputs": [],
   "source": [
    "# 在occ中设置某个点的mesh size\n",
    "f.edges[0].vertices[0].maxh = 0.05"
   ]
  },
  {
   "cell_type": "code",
   "execution_count": 13,
   "id": "bbc6cdee",
   "metadata": {},
   "outputs": [],
   "source": [
    "torus = f.Revolve(Axis((0,0,0), Z), 360)\n",
    "mesh = Mesh(OCCGeometry(torus).GenerateMesh(maxh=msize,\n",
    "            perfstepsend=ngm.MeshingStep.MESHSURFACE,grading=0.5))"
   ]
  },
  {
   "cell_type": "markdown",
   "id": "f1fc6a1d",
   "metadata": {},
   "source": [
    "* 可以直接加载一阶网格"
   ]
  },
  {
   "cell_type": "code",
   "execution_count": 14,
   "id": "ea1a6cdf",
   "metadata": {},
   "outputs": [],
   "source": [
    "mesh = Mesh(\"../../../data/order_1_mesh.vol\")\n",
    "fes = H1(mesh,order=1)\n",
    "fesV = VectorH1(mesh,order=1)\n",
    "\n",
    "Disp = GridFunction(fesV)\n",
    "data = np.load(\"../../../data/order_1_deformation.npz\")\n",
    "Disp.vec.data = BaseVector(data[\"deform\"].flatten(\"F\"))\n",
    "mesh.SetDeformation(Disp)"
   ]
  },
  {
   "cell_type": "markdown",
   "id": "8631a358",
   "metadata": {},
   "source": [
    "### Step 2: 在低阶网格的高次有限元空间上进行插值"
   ]
  },
  {
   "cell_type": "code",
   "execution_count": 15,
   "id": "5f140cdb",
   "metadata": {},
   "outputs": [],
   "source": [
    "fesir = IntegrationRuleSpaceSurface(mesh, order=2, definedon=mesh.Boundaries('.*'))\n",
    "irs = fesir.GetIntegrationRules()"
   ]
  },
  {
   "cell_type": "code",
   "execution_count": 16,
   "id": "722f69b0",
   "metadata": {},
   "outputs": [],
   "source": [
    "mesh.UnsetDeformation()\n",
    "interp_obj = SurfacehInterp(mesh,order)\n",
    "init_coords_3d = interp_obj.get_coords_quad() # 通过Interpolation"
   ]
  },
  {
   "cell_type": "code",
   "execution_count": 17,
   "id": "405e3094",
   "metadata": {},
   "outputs": [],
   "source": [
    "mesh.SetDeformation(Disp)\n",
    "interp_obj = SurfacehInterp(mesh,order)\n",
    "coords_3d = interp_obj.get_coords_quad() # 通过Interpolation\n",
    "Disp0 = GridFunction(fesV)\n",
    "get_gfu = lambda x: interp_obj.return_l2(x,deform=Disp) # 固定deform，防止曲面变化"
   ]
  },
  {
   "cell_type": "code",
   "execution_count": 18,
   "id": "f17b5922",
   "metadata": {},
   "outputs": [
    {
     "data": {
      "text/plain": [
       "[<matplotlib.lines.Line2D at 0x7ffefc75caf0>]"
      ]
     },
     "execution_count": 18,
     "metadata": {},
     "output_type": "execute_result"
    },
    {
     "data": {
      "image/png": "[encoded data removed]",
      "text/plain": [
       "<Figure size 640x480 with 1 Axes>"
      ]
     },
     "metadata": {},
     "output_type": "display_data"
    }
   ],
   "source": [
    "from geometry.param_curve import phi, psi\n",
    "import sympy as sp\n",
    "X_perturbed = sp.Matrix([\n",
    "    (1 + 0.65*sp.cos(phi)) * sp.cos(psi),\n",
    "    (1 + 0.65*sp.cos(phi)) * sp.sin(psi),\n",
    "    0.65*sp.sin(phi) + 0.3*sp.sin(5*psi)\n",
    "])\n",
    "obj = ParamSurface(X_perturbed,num_points=400000)\n",
    "\n",
    "phi_values, psi_values, points, tol_info = obj.proj_param(coords_3d,tol=1e-8,max_iter=10)\n",
    "\n",
    "import matplotlib.pyplot as plt\n",
    "plt.plot(np.linalg.norm(points - coords_3d, axis = 1))"
   ]
  },
  {
   "cell_type": "code",
   "execution_count": 19,
   "id": "0d35921a",
   "metadata": {},
   "outputs": [],
   "source": [
    "fesV2 = VectorH1(mesh,order=order)\n",
    "init_deformation = GridFunction(fesV2)"
   ]
  },
  {
   "cell_type": "code",
   "execution_count": 20,
   "id": "0482b5f0",
   "metadata": {},
   "outputs": [],
   "source": [
    "# 将Interpolation的位置点投影到精确曲面上\n",
    "def_coords = points - init_coords_3d\n",
    "deformx, deformy, deformz = map(get_gfu,[def_coords[:,0],def_coords[:,1],def_coords[:,2]])\n",
    "deform_xyz = np.concatenate([deformx, deformy, deformz])\n",
    "init_deformation.vec.data = BaseVector(deform_xyz)"
   ]
  },
  {
   "cell_type": "code",
   "execution_count": 21,
   "id": "9242f5de",
   "metadata": {},
   "outputs": [],
   "source": [
    "mesh.SetDeformation(init_deformation)"
   ]
  },
  {
   "cell_type": "code",
   "execution_count": 22,
   "id": "8b95d1f8",
   "metadata": {
    "scrolled": true
   },
   "outputs": [
    {
     "data": {
      "application/vnd.jupyter.widget-view+json": {
       "model_id": "f25da1a317a04224ae32f2218b6c190d",
       "version_major": 2,
       "version_minor": 0
      },
      "text/plain": [
       "WebGuiWidget(layout=Layout(height='50vh', width='100%'), value={'gui_settings': {}, 'ngsolve_version': '6.2.23…"
      ]
     },
     "metadata": {},
     "output_type": "display_data"
    },
    {
     "data": {
      "text/plain": [
       "BaseWebGuiScene"
      ]
     },
     "execution_count": 22,
     "metadata": {},
     "output_type": "execute_result"
    }
   ],
   "source": [
    "Draw(Norm(Trace(specialcf.Weingarten(3))),mesh,\"vv\")\n",
    "# Draw(x,mesh,\"vv\")"
   ]
  },
  {
   "cell_type": "code",
   "execution_count": 23,
   "id": "09c3322f",
   "metadata": {},
   "outputs": [],
   "source": [
    "mesh.ngmesh.Save (\"../../../data/order_{}_mesh.vol\".format(order))"
   ]
  },
  {
   "cell_type": "code",
   "execution_count": 24,
   "id": "1cd21d5a",
   "metadata": {},
   "outputs": [],
   "source": [
    "np.savez(\"../../../data/order_{}_deformation.npz\".format(order), deform=init_deformation.vec.FV().NumPy())"
   ]
  },
  {
   "cell_type": "code",
   "execution_count": null,
   "id": "826622f5",
   "metadata": {},
   "outputs": [],
   "source": []
  }
 ],
 "metadata": {
  "kernelspec": {
   "display_name": "Python 3 (ipykernel)",
   "language": "python",
   "name": "python3"
  },
  "language_info": {
   "codemirror_mode": {
    "name": "ipython",
    "version": 3
   },
   "file_extension": ".py",
   "mimetype": "text/x-python",
   "name": "python",
   "nbconvert_exporter": "python",
   "pygments_lexer": "ipython3",
   "version": "3.10.6"
  }
 },
 "nbformat": 4,
 "nbformat_minor": 5
}
