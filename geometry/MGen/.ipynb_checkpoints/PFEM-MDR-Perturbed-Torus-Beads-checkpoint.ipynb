{
 "cells": [
  {
   "cell_type": "code",
   "execution_count": 1,
   "id": "356bbfb3",
   "metadata": {},
   "outputs": [],
   "source": [
    "from ngsolve import *"
   ]
  },
  {
   "cell_type": "code",
   "execution_count": 2,
   "id": "327d6aeb",
   "metadata": {},
   "outputs": [],
   "source": [
    "# from netgen.csg import Pnt,SplineCurve2d,CSGeometry,Revolution,Sphere\n",
    "import numpy as np\n",
    "import netgen.meshing as ngm\n",
    "from netgen.csg import *\n",
    "from netgen.meshing import MeshingStep\n",
    "from ngsolve.comp import IntegrationRuleSpaceSurface"
   ]
  },
  {
   "cell_type": "code",
   "execution_count": 3,
   "id": "6dab484e",
   "metadata": {},
   "outputs": [],
   "source": [
    "from es_utils import pos_transformer"
   ]
  },
  {
   "cell_type": "code",
   "execution_count": 4,
   "id": "685da9b3",
   "metadata": {},
   "outputs": [],
   "source": [
    "from geometry import *"
   ]
  },
  {
   "cell_type": "code",
   "execution_count": 5,
   "id": "cf60b9f6",
   "metadata": {},
   "outputs": [],
   "source": [
    "from esfem import WillMoreMDR"
   ]
  },
  {
   "cell_type": "code",
   "execution_count": 6,
   "id": "999992c6",
   "metadata": {},
   "outputs": [],
   "source": [
    "from ngsolve.webgui import Draw"
   ]
  },
  {
   "cell_type": "code",
   "execution_count": 7,
   "id": "32f49221",
   "metadata": {},
   "outputs": [],
   "source": [
    "from netgen.occ import SplineApproximation, Pnt, Axis, Face, Wire, Segment, Revolve, OCCGeometry, Z, X, Y\n",
    "#%% Construction of Initial Curved Mesh\n",
    "dim = 3\n",
    "order = 2\n",
    "msize = 0.1\n",
    "dt = Parameter(0)"
   ]
  },
  {
   "cell_type": "code",
   "execution_count": 8,
   "id": "1aaf4735",
   "metadata": {},
   "outputs": [],
   "source": [
    "from ngsolve import Mesh"
   ]
  },
  {
   "cell_type": "code",
   "execution_count": 9,
   "id": "b6e9dd4c",
   "metadata": {},
   "outputs": [],
   "source": [
    "def GetRotFace(CurveFunc,msize,T_min=-np.pi/2,T_max=np.pi/2,axis=Z,is_close=False,n=100):\n",
    "    '''\n",
    "        Generate Rotational Mesh by revolving a 2d curve (CurveFunc) around an axis (axis)\n",
    "        CurveFunc: function of phi, return (x(phi), 0, z(phi)) for example\n",
    "        axis: axis of rotation, default z-axis: curve on x-z plane around z-axis\n",
    "        is_close: whether the curve is closed (first point = last point)\n",
    "        n: number of points on the curve\n",
    "        T_min, T_max: parameter range of the curve\n",
    "        msize: mesh size\n",
    "        return: mesh \n",
    "    '''\n",
    "    pnts = [CurveFunc(phi) for phi in np.linspace(T_min,T_max,n)]\n",
    "    spline = SplineApproximation(pnts, tol=1e-4)\n",
    "    f = Face(Wire([spline]))\n",
    "    return f"
   ]
  },
  {
   "cell_type": "code",
   "execution_count": 10,
   "id": "3614d0f5",
   "metadata": {},
   "outputs": [],
   "source": [
    "def BaseTorus(phi,k = 0.4): \n",
    "    z = k*np.sin(phi)\n",
    "    res = Pnt(1+k*np.cos(phi), 0, z)\n",
    "    return res"
   ]
  },
  {
   "cell_type": "markdown",
   "id": "dcf9e377",
   "metadata": {},
   "source": [
    "* 先生成一个标准的环面"
   ]
  },
  {
   "cell_type": "code",
   "execution_count": 11,
   "id": "8f35c1fb",
   "metadata": {},
   "outputs": [],
   "source": [
    "f = GetRotFace(BaseTorus,0.08,T_min=np.pi,\n",
    "                  T_max=3*np.pi,axis=Z,is_close=True)"
   ]
  },
  {
   "cell_type": "code",
   "execution_count": 12,
   "id": "67870190",
   "metadata": {},
   "outputs": [],
   "source": [
    "f.edges[0].vertices[0].maxh = 0.05"
   ]
  },
  {
   "cell_type": "code",
   "execution_count": 13,
   "id": "af3f8103",
   "metadata": {},
   "outputs": [],
   "source": [
    "torus = f.Revolve(Axis((0,0,0), Z), 360)\n",
    "mesh = Mesh(OCCGeometry(torus).GenerateMesh(maxh=msize,\n",
    "            perfstepsend=ngm.MeshingStep.MESHSURFACE,grading=0.5))"
   ]
  },
  {
   "cell_type": "code",
   "execution_count": 14,
   "id": "2223e346",
   "metadata": {},
   "outputs": [
    {
     "data": {
      "application/vnd.jupyter.widget-view+json": {
       "model_id": "95249adab53146a6ad53566bbe2332a2",
       "version_major": 2,
       "version_minor": 0
      },
      "text/plain": [
       "WebGuiWidget(layout=Layout(height='50vh', width='100%'), value={'gui_settings': {}, 'ngsolve_version': '6.2.23…"
      ]
     },
     "metadata": {},
     "output_type": "display_data"
    },
    {
     "data": {
      "text/plain": [
       "BaseWebGuiScene"
      ]
     },
     "execution_count": 14,
     "metadata": {},
     "output_type": "execute_result"
    }
   ],
   "source": [
    "Draw(x,mesh,\"vv\")"
   ]
  },
  {
   "cell_type": "markdown",
   "id": "f3fad12a",
   "metadata": {},
   "source": [
    "Perturbed torus\n",
    "\\begin{equation*}\n",
    "\\begin{pmatrix}\n",
    "(1+\\cos\\varphi)\\cos\\theta\\\\ (1+\\cos\\varphi)\\sin\\theta\\\\\n",
    "\\sin \\varphi \n",
    "    \\end{pmatrix}\n",
    "    + \n",
    "       a \\begin{pmatrix}\n",
    "     \\sin 6\\theta \\cos \\varphi \\cos \\theta \\\\ \n",
    "     \\sin 6\\theta \\cos \\varphi \\sin \\theta  \\\\ \n",
    "     \\sin 6\\theta \\sin \\varphi\n",
    "    \\end{pmatrix}\n",
    "\\end{equation*}\n",
    "在标准的环面的基础上，不同的 $\\theta$ 对应的切片的圆的半径不同，是 $1+ a\\sin 6\\theta$"
   ]
  },
  {
   "cell_type": "code",
   "execution_count": 15,
   "id": "ee9df707",
   "metadata": {},
   "outputs": [],
   "source": [
    "t = Parameter(0)\n",
    "r = sqrt(x**2+y**2)\n",
    "my_theta = atan2(y,x)\n",
    "a = 0.1\n",
    "cosmy_phi = (r-1)\n",
    "sinmy_phi = z\n",
    "phi = atan2(sinmy_phi,cosmy_phi)\n",
    "v = CF((a*sin(6*my_theta)*cos(my_theta)*cos(phi),\n",
    "        a*sin(6*my_theta)*sin(my_theta)*cos(phi),\n",
    "        a*sin(6*my_theta)*sin(phi)))"
   ]
  },
  {
   "cell_type": "markdown",
   "id": "debc65c1",
   "metadata": {},
   "source": [
    "* 绘制展示一下速度场的梯度大小"
   ]
  },
  {
   "cell_type": "code",
   "execution_count": 16,
   "id": "a4e9954e",
   "metadata": {},
   "outputs": [
    {
     "data": {
      "application/vnd.jupyter.widget-view+json": {
       "model_id": "654a7cb6aab64e948e19f3b8c3613a45",
       "version_major": 2,
       "version_minor": 0
      },
      "text/plain": [
       "WebGuiWidget(layout=Layout(height='50vh', width='100%'), value={'gui_settings': {}, 'ngsolve_version': '6.2.23…"
      ]
     },
     "metadata": {},
     "output_type": "display_data"
    },
    {
     "data": {
      "text/plain": [
       "BaseWebGuiScene"
      ]
     },
     "execution_count": 16,
     "metadata": {},
     "output_type": "execute_result"
    }
   ],
   "source": [
    "mesh.UnsetDeformation()\n",
    "Draw(Norm(CF((v.Diff(x),v.Diff(y)))),mesh,\"vv\")"
   ]
  },
  {
   "cell_type": "code",
   "execution_count": 17,
   "id": "fcb7a126",
   "metadata": {
    "scrolled": true
   },
   "outputs": [
    {
     "name": "stdout",
     "output_type": "stream",
     "text": [
      "fes order is 1, with ndof is 2139\n",
      "here\n"
     ]
    }
   ],
   "source": [
    "DB_BGN_Obj = WillMoreMDR(mesh,T=1.5,dt=1e-5,order=1)"
   ]
  },
  {
   "cell_type": "code",
   "execution_count": 18,
   "id": "8f43cb39",
   "metadata": {
    "scrolled": false
   },
   "outputs": [
    {
     "data": {
      "application/vnd.jupyter.widget-view+json": {
       "model_id": "210f7523c2114665baf92658fc3f2c14",
       "version_major": 2,
       "version_minor": 0
      },
      "text/plain": [
       "WebGuiWidget(layout=Layout(height='50vh', width='100%'), value={'gui_settings': {}, 'ngsolve_version': '6.2.23…"
      ]
     },
     "metadata": {},
     "output_type": "display_data"
    }
   ],
   "source": [
    "sceneu = Draw(x, mesh, 'disp')\n",
    "t_old = 0\n",
    "tauval = 1e-1\n",
    "while t_old < 1:\n",
    "    t.Set(t_old+tauval)\n",
    "    DB_BGN_Obj.nuold.Set(specialcf.normal(3),\n",
    "                         definedon=mesh.Boundaries(\".*\"))\n",
    "    DB_BGN_Obj.Vold.Set(InnerProduct(v,DB_BGN_Obj.nuold),definedon=mesh.Boundaries(\".*\"))\n",
    "    DB_BGN_Obj.LapvSet() # 计算带有切向速度的 DB_BGN_Obj.vold\n",
    "    DB_BGN_Obj.Disp.vec.data += BaseVector(tauval*DB_BGN_Obj.vold.vec.FV().NumPy())\n",
    "    \n",
    "    DB_BGN_Obj.mesh.SetDeformation(DB_BGN_Obj.Disp)\n",
    "    t_old += tauval\n",
    "    sceneu.Redraw()    "
   ]
  },
  {
   "cell_type": "code",
   "execution_count": null,
   "id": "2ff65ea8",
   "metadata": {},
   "outputs": [],
   "source": []
  },
  {
   "cell_type": "code",
   "execution_count": 19,
   "id": "fb409c6a",
   "metadata": {},
   "outputs": [],
   "source": [
    "import copy\n",
    "tmpv = copy.deepcopy(DB_BGN_Obj.Disp.vec.FV().NumPy())"
   ]
  },
  {
   "cell_type": "code",
   "execution_count": 20,
   "id": "130ae097",
   "metadata": {},
   "outputs": [],
   "source": [
    "Vertices_Coords = DB_BGN_Obj.Get_Vertices_Coords()"
   ]
  },
  {
   "cell_type": "code",
   "execution_count": 21,
   "id": "0e2d53ab",
   "metadata": {},
   "outputs": [
    {
     "data": {
      "text/plain": [
       "[<matplotlib.lines.Line2D at 0x7ffef67ce0e0>]"
      ]
     },
     "execution_count": 21,
     "metadata": {},
     "output_type": "execute_result"
    },
    {
     "data": {
      "image/png": "[encoded data removed]",
      "text/plain": [
       "<Figure size 640x480 with 1 Axes>"
      ]
     },
     "metadata": {},
     "output_type": "display_data"
    }
   ],
   "source": [
    "from geometry.param_curve import phi, psi\n",
    "import sympy as sp\n",
    "X_perturbed = sp.Matrix([\n",
    "    (1 + 0.4*sp.cos(phi)) * sp.cos(psi) + a*sp.sin(6*psi)*sp.cos(psi)*sp.cos(phi),\n",
    "    (1 + 0.4*sp.cos(phi)) * sp.sin(psi) + a*sp.sin(6*psi)*sp.sin(psi)*sp.cos(phi),\n",
    "    0.4*sp.sin(phi) + a*sp.sin(6*psi)*sp.sin(phi)\n",
    "])\n",
    "\n",
    "obj = ParamSurface(X_perturbed,num_points=400000)\n",
    "\n",
    "phi_values, psi_values, points, tol_info = obj.proj_param(Vertices_Coords,tol=1e-8,max_iter=10)\n",
    "\n",
    "import matplotlib.pyplot as plt\n",
    "plt.plot(np.linalg.norm(points - Vertices_Coords, axis = 1))"
   ]
  },
  {
   "cell_type": "code",
   "execution_count": 22,
   "id": "7cb8ff6f",
   "metadata": {
    "scrolled": true
   },
   "outputs": [],
   "source": [
    "disp = points - Vertices_Coords"
   ]
  },
  {
   "cell_type": "code",
   "execution_count": 23,
   "id": "3b558be7",
   "metadata": {},
   "outputs": [],
   "source": [
    "DB_BGN_Obj.Disp.vec.data = BaseVector(tmpv + disp.flatten(\"F\"))"
   ]
  },
  {
   "cell_type": "code",
   "execution_count": 24,
   "id": "c29367b9",
   "metadata": {},
   "outputs": [],
   "source": [
    "DB_BGN_Obj.mesh.SetDeformation(DB_BGN_Obj.Disp)"
   ]
  },
  {
   "cell_type": "code",
   "execution_count": 25,
   "id": "bf799a86",
   "metadata": {
    "scrolled": false
   },
   "outputs": [
    {
     "data": {
      "application/vnd.jupyter.widget-view+json": {
       "model_id": "356881f9e42d4031b6e3d4c4e8035ac5",
       "version_major": 2,
       "version_minor": 0
      },
      "text/plain": [
       "WebGuiWidget(layout=Layout(height='50vh', width='100%'), value={'gui_settings': {}, 'ngsolve_version': '6.2.23…"
      ]
     },
     "metadata": {},
     "output_type": "display_data"
    },
    {
     "data": {
      "text/plain": [
       "BaseWebGuiScene"
      ]
     },
     "execution_count": 25,
     "metadata": {},
     "output_type": "execute_result"
    }
   ],
   "source": [
    "Draw(x, DB_BGN_Obj.mesh, 'disp')"
   ]
  },
  {
   "cell_type": "code",
   "execution_count": 31,
   "id": "317efcef",
   "metadata": {},
   "outputs": [
    {
     "name": "stdout",
     "output_type": "stream",
     "text": [
      "../../../data/order_1_beads.vol\n"
     ]
    }
   ],
   "source": [
    "order = 1\n",
    "mesh_name = \"../../../data/order_{}_beads.vol\".format(order)\n",
    "DB_BGN_Obj.mesh.ngmesh.Save (mesh_name)\n",
    "print(mesh_name)\n",
    "\n",
    "np.savez(\"../../../data/order_{}_deformation_beads.npz\".format(order), \n",
    "         deform=DB_BGN_Obj.Disp.vec.FV().NumPy())"
   ]
  },
  {
   "cell_type": "markdown",
   "id": "d2945d2a",
   "metadata": {},
   "source": [
    "### 如何得到二次的deformation"
   ]
  },
  {
   "cell_type": "code",
   "execution_count": 32,
   "id": "450b19d4",
   "metadata": {},
   "outputs": [],
   "source": [
    "from es_utils import pos_transformer, SurfacehInterp"
   ]
  },
  {
   "cell_type": "code",
   "execution_count": 33,
   "id": "22ad0cde",
   "metadata": {},
   "outputs": [],
   "source": [
    "order = 2\n",
    "mesh = DB_BGN_Obj.mesh\n",
    "fesir = IntegrationRuleSpaceSurface(mesh, order=order, definedon=mesh.Boundaries('.*'))\n",
    "irs = fesir.GetIntegrationRules()"
   ]
  },
  {
   "cell_type": "code",
   "execution_count": 34,
   "id": "3f38303d",
   "metadata": {},
   "outputs": [],
   "source": [
    "mesh.UnsetDeformation()\n",
    "interp_obj = SurfacehInterp(mesh,order)\n",
    "init_coords_3d = interp_obj.get_coords_quad() # 通过Interpolation"
   ]
  },
  {
   "cell_type": "code",
   "execution_count": 35,
   "id": "83ced434",
   "metadata": {},
   "outputs": [],
   "source": [
    "mesh.SetDeformation(DB_BGN_Obj.Disp)\n",
    "interp_obj = SurfacehInterp(mesh,order)\n",
    "coords_3d = interp_obj.get_coords_quad() # 通过Interpolation\n",
    "Disp0 = GridFunction(DB_BGN_Obj.fesV)\n",
    "get_gfu = lambda x: interp_obj.return_l2(x,deform=DB_BGN_Obj.Disp) # 固定deform，防止曲面变化"
   ]
  },
  {
   "cell_type": "code",
   "execution_count": 36,
   "id": "b49deea2",
   "metadata": {},
   "outputs": [],
   "source": [
    "phi_values, psi_values, points, tol_info = obj.proj_param(coords_3d,tol=1e-8,max_iter=10)"
   ]
  },
  {
   "cell_type": "code",
   "execution_count": 37,
   "id": "1971edf8",
   "metadata": {},
   "outputs": [],
   "source": [
    "fesV2 = VectorH1(mesh,order=order)\n",
    "init_deformation = GridFunction(fesV2)\n",
    "# 将Interpolation的位置点投影到精确曲面上\n",
    "def_coords = points - init_coords_3d\n",
    "deformx, deformy, deformz = map(get_gfu,[def_coords[:,0],def_coords[:,1],def_coords[:,2]])\n",
    "deform_xyz = np.concatenate([deformx, deformy, deformz])\n",
    "init_deformation.vec.data = BaseVector(deform_xyz)\n",
    "mesh.SetDeformation(init_deformation)"
   ]
  },
  {
   "cell_type": "code",
   "execution_count": 38,
   "id": "affd4540",
   "metadata": {},
   "outputs": [
    {
     "data": {
      "application/vnd.jupyter.widget-view+json": {
       "model_id": "a7cfb4797e694b82b7c2b619ae1ea118",
       "version_major": 2,
       "version_minor": 0
      },
      "text/plain": [
       "WebGuiWidget(layout=Layout(height='50vh', width='100%'), value={'gui_settings': {}, 'ngsolve_version': '6.2.23…"
      ]
     },
     "metadata": {},
     "output_type": "display_data"
    },
    {
     "data": {
      "text/plain": [
       "BaseWebGuiScene"
      ]
     },
     "execution_count": 38,
     "metadata": {},
     "output_type": "execute_result"
    }
   ],
   "source": [
    "Draw(Norm(Trace(specialcf.Weingarten(3))),mesh,\"vv\")\n",
    "# Draw(x,mesh,\"vv\")"
   ]
  },
  {
   "cell_type": "code",
   "execution_count": 39,
   "id": "1e25e35e",
   "metadata": {},
   "outputs": [],
   "source": [
    "mesh.ngmesh.Save (\"../../../data/order_{}_mesh_beads.vol\".format(order))\n",
    "\n",
    "np.savez(\"../../../data/order_{}_deformation_beads.npz\".format(order), deform=init_deformation.vec.FV().NumPy())"
   ]
  },
  {
   "cell_type": "code",
   "execution_count": null,
   "id": "605df99b",
   "metadata": {},
   "outputs": [],
   "source": []
  }
 ],
 "metadata": {
  "kernelspec": {
   "display_name": "Python 3 (ipykernel)",
   "language": "python",
   "name": "python3"
  },
  "language_info": {
   "codemirror_mode": {
    "name": "ipython",
    "version": 3
   },
   "file_extension": ".py",
   "mimetype": "text/x-python",
   "name": "python",
   "nbconvert_exporter": "python",
   "pygments_lexer": "ipython3",
   "version": "3.10.6"
  }
 },
 "nbformat": 4,
 "nbformat_minor": 5
}
