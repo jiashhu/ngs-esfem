{
 "cells": [
  {
   "cell_type": "code",
   "execution_count": 2,
   "id": "1b7cc421",
   "metadata": {},
   "outputs": [],
   "source": [
    "from ngsolve import *"
   ]
  },
  {
   "cell_type": "code",
   "execution_count": 3,
   "id": "8eea73c6",
   "metadata": {},
   "outputs": [],
   "source": [
    "# from netgen.csg import Pnt,SplineCurve2d,CSGeometry,Revolution,Sphere\n",
    "import numpy as np\n",
    "import netgen.meshing as ngm\n",
    "from netgen.csg import *\n",
    "from netgen.meshing import MeshingStep\n",
    "from ngsolve.comp import IntegrationRuleSpaceSurface"
   ]
  },
  {
   "cell_type": "code",
   "execution_count": 4,
   "id": "a9489789",
   "metadata": {},
   "outputs": [],
   "source": [
    "from geometry import *"
   ]
  },
  {
   "cell_type": "code",
   "execution_count": 5,
   "id": "c6e9fd92",
   "metadata": {},
   "outputs": [],
   "source": [
    "from netgen.occ import *"
   ]
  },
  {
   "cell_type": "code",
   "execution_count": 6,
   "id": "2fa074a7",
   "metadata": {},
   "outputs": [],
   "source": [
    "from ngsolve import Mesh"
   ]
  },
  {
   "cell_type": "code",
   "execution_count": 16,
   "id": "25fc1fbb",
   "metadata": {},
   "outputs": [],
   "source": [
    "pnts = [level_set_quadfoil(z) for z in np.linspace(0,2*np.pi,100)]\n",
    "spline = SplineApproximation(pnts, tol=1e-4)\n",
    "f = Face(Wire([spline]))\n",
    "\n",
    "geo = OCCGeometry(f)\n",
    "mp = MeshingParameters(maxh=0.08,curvaturesafety=3,grading=0.2)   # 控制最大单元大小\n",
    "mesh = Mesh(geo.GenerateMesh(mp))"
   ]
  },
  {
   "cell_type": "code",
   "execution_count": 17,
   "id": "74689a47",
   "metadata": {},
   "outputs": [
    {
     "data": {
      "application/vnd.jupyter.widget-view+json": {
       "model_id": "b5bd94e989764507b8e858abc3fa060c",
       "version_major": 2,
       "version_minor": 0
      },
      "text/plain": [
       "WebGuiWidget(layout=Layout(height='50vh', width='100%'), value={'gui_settings': {}, 'ngsolve_version': '6.2.23…"
      ]
     },
     "metadata": {},
     "output_type": "display_data"
    },
    {
     "data": {
      "text/plain": [
       "BaseWebGuiScene"
      ]
     },
     "execution_count": 17,
     "metadata": {},
     "output_type": "execute_result"
    }
   ],
   "source": [
    "from ngsolve.webgui import Draw\n",
    "Draw(mesh)"
   ]
  },
  {
   "cell_type": "code",
   "execution_count": 20,
   "id": "c57710e1",
   "metadata": {},
   "outputs": [],
   "source": [
    "wp = WorkPlane().Circle(0,0,1)\n",
    "face0 = wp.Face() ## 圆形\n",
    "face0.edges[0].name = \"bnd\"\n",
    "f = Face(Wire(spline)) ## 四叶形\n",
    "f.edges[0].name = \"b_in\"\n",
    "geo = OCCGeometry(face0-f,dim=2)\n",
    "mp = MeshingParameters(maxh=0.08,curvaturesafety=3,grading=0.3)   # 控制最大单元大小\n",
    "mesh = Mesh(geo.GenerateMesh(mp))"
   ]
  },
  {
   "cell_type": "code",
   "execution_count": 21,
   "id": "8e24ef37",
   "metadata": {},
   "outputs": [
    {
     "data": {
      "application/vnd.jupyter.widget-view+json": {
       "model_id": "02e3b32721d04d4ca5deeb5f44993583",
       "version_major": 2,
       "version_minor": 0
      },
      "text/plain": [
       "WebGuiWidget(layout=Layout(height='50vh', width='100%'), value={'gui_settings': {}, 'ngsolve_version': '6.2.23…"
      ]
     },
     "metadata": {},
     "output_type": "display_data"
    },
    {
     "data": {
      "text/plain": [
       "BaseWebGuiScene"
      ]
     },
     "execution_count": 21,
     "metadata": {},
     "output_type": "execute_result"
    }
   ],
   "source": [
    "Draw(mesh)"
   ]
  },
  {
   "cell_type": "code",
   "execution_count": null,
   "id": "af147dcc",
   "metadata": {},
   "outputs": [],
   "source": []
  },
  {
   "cell_type": "code",
   "execution_count": null,
   "id": "dd3dd9e5",
   "metadata": {},
   "outputs": [],
   "source": []
  }
 ],
 "metadata": {
  "kernelspec": {
   "display_name": "Python 3 (ipykernel)",
   "language": "python",
   "name": "python3"
  },
  "language_info": {
   "codemirror_mode": {
    "name": "ipython",
    "version": 3
   },
   "file_extension": ".py",
   "mimetype": "text/x-python",
   "name": "python",
   "nbconvert_exporter": "python",
   "pygments_lexer": "ipython3",
   "version": "3.10.6"
  }
 },
 "nbformat": 4,
 "nbformat_minor": 5
}
