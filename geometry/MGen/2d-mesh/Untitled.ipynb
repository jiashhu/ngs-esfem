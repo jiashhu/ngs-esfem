{
 "cells": [
  {
   "cell_type": "code",
   "execution_count": 3,
   "id": "45ceb780",
   "metadata": {},
   "outputs": [],
   "source": [
    "from ngsolve import *"
   ]
  },
  {
   "cell_type": "code",
   "execution_count": 4,
   "id": "37c634e1",
   "metadata": {},
   "outputs": [],
   "source": [
    "# from netgen.csg import Pnt,SplineCurve2d,CSGeometry,Revolution,Sphere\n",
    "import numpy as np\n",
    "import netgen.meshing as ngm\n",
    "from netgen.csg import *\n",
    "from netgen.meshing import MeshingStep\n",
    "from ngsolve.comp import IntegrationRuleSpaceSurface"
   ]
  },
  {
   "cell_type": "code",
   "execution_count": 5,
   "id": "27c2d506",
   "metadata": {},
   "outputs": [],
   "source": [
    "from geometry import *"
   ]
  },
  {
   "cell_type": "code",
   "execution_count": 6,
   "id": "a1a8c803",
   "metadata": {},
   "outputs": [],
   "source": [
    "from netgen.occ import *"
   ]
  },
  {
   "cell_type": "code",
   "execution_count": 7,
   "id": "447109e2",
   "metadata": {},
   "outputs": [],
   "source": [
    "from ngsolve import Mesh"
   ]
  },
  {
   "cell_type": "code",
   "execution_count": 8,
   "id": "02d2c45f",
   "metadata": {},
   "outputs": [],
   "source": [
    "pnts = [level_set_quadfoil(z) for z in np.linspace(0,2*np.pi,100)]\n",
    "spline = SplineApproximation(pnts, tol=1e-4)\n",
    "f = Face(Wire([spline]))\n",
    "\n",
    "geo = OCCGeometry(f)\n",
    "mp = MeshingParameters(maxh=0.08,curvaturesafety=3,grading=0.2)   # 控制最大单元大小\n",
    "mesh = Mesh(geo.GenerateMesh(mp))"
   ]
  },
  {
   "cell_type": "code",
   "execution_count": 9,
   "id": "0b7f921b",
   "metadata": {},
   "outputs": [
    {
     "data": {
      "text/plain": [
       "netgen.libngpy._NgOCC.Edge"
      ]
     },
     "execution_count": 9,
     "metadata": {},
     "output_type": "execute_result"
    }
   ],
   "source": [
    "spline = ArcOfCircle(pnts[0],pnts[1],pnts[2])\n",
    "f = Face(Wire([spline]))\n",
    "type(spline)"
   ]
  },
  {
   "cell_type": "code",
   "execution_count": null,
   "id": "7d865965",
   "metadata": {},
   "outputs": [],
   "source": []
  },
  {
   "cell_type": "code",
   "execution_count": 18,
   "id": "218c1f7a",
   "metadata": {},
   "outputs": [
    {
     "ename": "NameError",
     "evalue": "name 'gp_Ax3d' is not defined",
     "output_type": "error",
     "traceback": [
      "\u001b[0;31m---------------------------------------------------------------------------\u001b[0m",
      "\u001b[0;31mNameError\u001b[0m                                 Traceback (most recent call last)",
      "Cell \u001b[0;32mIn[18], line 6\u001b[0m\n\u001b[1;32m      4\u001b[0m aPnt \u001b[38;5;241m=\u001b[39m Pnt(\u001b[38;5;241m2.\u001b[39m\u001b[38;5;241m*\u001b[39mmath\u001b[38;5;241m.\u001b[39mpi, \u001b[38;5;241m1\u001b[39m \u001b[38;5;241m/\u001b[39m \u001b[38;5;241m2.\u001b[39m)\n\u001b[1;32m      5\u001b[0m aDir \u001b[38;5;241m=\u001b[39m Dir( \u001b[38;5;241m2.\u001b[39m\u001b[38;5;241m*\u001b[39mmath\u001b[38;5;241m.\u001b[39mpi, \u001b[38;5;241m1\u001b[39m \u001b[38;5;241m/\u001b[39m \u001b[38;5;241m4.\u001b[39m, \u001b[38;5;241m1\u001b[39m)\n\u001b[0;32m----> 6\u001b[0m anAx2d \u001b[38;5;241m=\u001b[39m \u001b[43mgp_Ax3d\u001b[49m(aPnt, aDir)\n\u001b[1;32m      7\u001b[0m aMajor \u001b[38;5;241m=\u001b[39m \u001b[38;5;241m2.\u001b[39m \u001b[38;5;241m*\u001b[39m math\u001b[38;5;241m.\u001b[39mpi\n\u001b[1;32m      8\u001b[0m aMinor \u001b[38;5;241m=\u001b[39m \u001b[38;5;241m1\u001b[39m \u001b[38;5;241m/\u001b[39m \u001b[38;5;241m10\u001b[39m\n",
      "\u001b[0;31mNameError\u001b[0m: name 'gp_Ax3d' is not defined"
     ]
    }
   ],
   "source": [
    "# cyl1 = Cylinder(neckax, myNeckRadius * 0.99, 1).faces[0]\n",
    "# cyl2 = Cylinder(neckax, myNeckRadius * 1.05, 1).faces[0]\n",
    "import math\n",
    "aPnt = Pnt(2.*math.pi, 1 / 2.)\n",
    "aDir = Dir( 2.*math.pi, 1 / 4., 1)\n",
    "anAx2d = gp_Ax3d(aPnt, aDir)\n",
    "aMajor = 2. * math.pi\n",
    "aMinor = 1 / 10\n",
    "arc1 = Ellipse(anAx2d, aMajor, aMinor).Trim(0, math.pi)\n",
    "arc2 = Ellipse(anAx2d, aMajor, aMinor/4).Trim(0, math.pi)"
   ]
  },
  {
   "cell_type": "code",
   "execution_count": null,
   "id": "7fb41d53",
   "metadata": {},
   "outputs": [],
   "source": []
  },
  {
   "cell_type": "code",
   "execution_count": null,
   "id": "558df7aa",
   "metadata": {},
   "outputs": [],
   "source": []
  },
  {
   "cell_type": "code",
   "execution_count": 19,
   "id": "6c4387d3",
   "metadata": {},
   "outputs": [
    {
     "data": {
      "text/plain": [
       "0.17329545454545453"
      ]
     },
     "execution_count": 19,
     "metadata": {},
     "output_type": "execute_result"
    }
   ],
   "source": [
    "-9/32+5/11"
   ]
  },
  {
   "cell_type": "code",
   "execution_count": 16,
   "id": "86aa8543",
   "metadata": {},
   "outputs": [
    {
     "data": {
      "text/plain": [
       "netgen.libngpy._NgOCC.gp_Dir2d"
      ]
     },
     "execution_count": 16,
     "metadata": {},
     "output_type": "execute_result"
    }
   ],
   "source": [
    "type(aDir)"
   ]
  },
  {
   "cell_type": "code",
   "execution_count": 15,
   "id": "6db6e3cd",
   "metadata": {},
   "outputs": [
    {
     "data": {
      "text/plain": [
       "netgen.libngpy._NgOCC.gp_Vec"
      ]
     },
     "execution_count": 15,
     "metadata": {},
     "output_type": "execute_result"
    }
   ],
   "source": [
    "type(Z)"
   ]
  },
  {
   "cell_type": "code",
   "execution_count": 11,
   "id": "53803253",
   "metadata": {},
   "outputs": [
    {
     "data": {
      "text/plain": [
       "['Edge',\n",
       " 'Face',\n",
       " 'Trim',\n",
       " 'Value',\n",
       " 'Wire',\n",
       " '__class__',\n",
       " '__delattr__',\n",
       " '__dir__',\n",
       " '__doc__',\n",
       " '__eq__',\n",
       " '__format__',\n",
       " '__ge__',\n",
       " '__getattribute__',\n",
       " '__gt__',\n",
       " '__hash__',\n",
       " '__init__',\n",
       " '__init_subclass__',\n",
       " '__le__',\n",
       " '__lt__',\n",
       " '__module__',\n",
       " '__ne__',\n",
       " '__new__',\n",
       " '__reduce__',\n",
       " '__reduce_ex__',\n",
       " '__repr__',\n",
       " '__setattr__',\n",
       " '__sizeof__',\n",
       " '__str__',\n",
       " '__subclasshook__',\n",
       " 'end',\n",
       " 'start']"
      ]
     },
     "execution_count": 11,
     "metadata": {},
     "output_type": "execute_result"
    }
   ],
   "source": [
    "dir(arc1)"
   ]
  },
  {
   "cell_type": "code",
   "execution_count": 13,
   "id": "0607dcf3",
   "metadata": {},
   "outputs": [
    {
     "ename": "AttributeError",
     "evalue": "'netgen.libngpy._NgOCC.gp_Dir2d' object has no attribute 'Draw'",
     "output_type": "error",
     "traceback": [
      "\u001b[0;31m---------------------------------------------------------------------------\u001b[0m",
      "\u001b[0;31mAttributeError\u001b[0m                            Traceback (most recent call last)",
      "Cell \u001b[0;32mIn[13], line 1\u001b[0m\n\u001b[0;32m----> 1\u001b[0m \u001b[43mDraw\u001b[49m\u001b[43m(\u001b[49m\u001b[43maDir\u001b[49m\u001b[43m)\u001b[49m\n",
      "\u001b[0;31mAttributeError\u001b[0m: 'netgen.libngpy._NgOCC.gp_Dir2d' object has no attribute 'Draw'"
     ]
    }
   ],
   "source": [
    "Draw(aDir)"
   ]
  },
  {
   "cell_type": "code",
   "execution_count": null,
   "id": "b15fb1c7",
   "metadata": {},
   "outputs": [],
   "source": []
  },
  {
   "cell_type": "code",
   "execution_count": 11,
   "id": "8e653843",
   "metadata": {},
   "outputs": [
    {
     "data": {
      "text/plain": [
       "netgen.libngpy._NgOCC.Wire"
      ]
     },
     "execution_count": 11,
     "metadata": {},
     "output_type": "execute_result"
    }
   ],
   "source": [
    "type(arc1.Wire())"
   ]
  },
  {
   "cell_type": "code",
   "execution_count": null,
   "id": "af945b94",
   "metadata": {},
   "outputs": [],
   "source": [
    "Wire([arc1.Wire()])"
   ]
  },
  {
   "cell_type": "code",
   "execution_count": null,
   "id": "9a7c44ca",
   "metadata": {},
   "outputs": [],
   "source": [
    "Draw(arc1.Wire())"
   ]
  },
  {
   "cell_type": "code",
   "execution_count": null,
   "id": "e310cb4c",
   "metadata": {},
   "outputs": [],
   "source": []
  },
  {
   "cell_type": "code",
   "execution_count": 17,
   "id": "7a8aeb62",
   "metadata": {},
   "outputs": [
    {
     "data": {
      "application/vnd.jupyter.widget-view+json": {
       "model_id": "b5bd94e989764507b8e858abc3fa060c",
       "version_major": 2,
       "version_minor": 0
      },
      "text/plain": [
       "WebGuiWidget(layout=Layout(height='50vh', width='100%'), value={'gui_settings': {}, 'ngsolve_version': '6.2.23…"
      ]
     },
     "metadata": {},
     "output_type": "display_data"
    },
    {
     "data": {
      "text/plain": [
       "BaseWebGuiScene"
      ]
     },
     "execution_count": 17,
     "metadata": {},
     "output_type": "execute_result"
    }
   ],
   "source": [
    "from ngsolve.webgui import Draw\n",
    "Draw(mesh)"
   ]
  },
  {
   "cell_type": "code",
   "execution_count": 20,
   "id": "35ff14e6",
   "metadata": {},
   "outputs": [],
   "source": [
    "wp = WorkPlane().Circle(0,0,1)\n",
    "face0 = wp.Face() ## 圆形\n",
    "face0.edges[0].name = \"bnd\"\n",
    "f = Face(Wire(spline)) ## 四叶形\n",
    "f.edges[0].name = \"b_in\"\n",
    "geo = OCCGeometry(face0-f,dim=2)\n",
    "mp = MeshingParameters(maxh=0.08,curvaturesafety=3,grading=0.3)   # 控制最大单元大小\n",
    "mesh = Mesh(geo.GenerateMesh(mp))"
   ]
  },
  {
   "cell_type": "code",
   "execution_count": 21,
   "id": "afaebe38",
   "metadata": {
    "scrolled": false
   },
   "outputs": [
    {
     "data": {
      "application/vnd.jupyter.widget-view+json": {
       "model_id": "02e3b32721d04d4ca5deeb5f44993583",
       "version_major": 2,
       "version_minor": 0
      },
      "text/plain": [
       "WebGuiWidget(layout=Layout(height='50vh', width='100%'), value={'gui_settings': {}, 'ngsolve_version': '6.2.23…"
      ]
     },
     "metadata": {},
     "output_type": "display_data"
    },
    {
     "data": {
      "text/plain": [
       "BaseWebGuiScene"
      ]
     },
     "execution_count": 21,
     "metadata": {},
     "output_type": "execute_result"
    }
   ],
   "source": [
    "Draw(mesh)"
   ]
  },
  {
   "cell_type": "code",
   "execution_count": null,
   "id": "de1ce3ff",
   "metadata": {},
   "outputs": [],
   "source": []
  },
  {
   "cell_type": "code",
   "execution_count": null,
   "id": "3f09b4d7",
   "metadata": {},
   "outputs": [],
   "source": []
  }
 ],
 "metadata": {
  "kernelspec": {
   "display_name": "Python 3 (ipykernel)",
   "language": "python",
   "name": "python3"
  },
  "language_info": {
   "codemirror_mode": {
    "name": "ipython",
    "version": 3
   },
   "file_extension": ".py",
   "mimetype": "text/x-python",
   "name": "python",
   "nbconvert_exporter": "python",
   "pygments_lexer": "ipython3",
   "version": "3.10.6"
  }
 },
 "nbformat": 4,
 "nbformat_minor": 5
}
