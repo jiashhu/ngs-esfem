{
 "cells": [
  {
   "cell_type": "code",
   "execution_count": 1,
   "id": "d63d3136",
   "metadata": {},
   "outputs": [],
   "source": [
    "from ngsolve import *"
   ]
  },
  {
   "cell_type": "code",
   "execution_count": 2,
   "id": "4eee6b54",
   "metadata": {},
   "outputs": [],
   "source": [
    "# from netgen.csg import Pnt,SplineCurve2d,CSGeometry,Revolution,Sphere\n",
    "import numpy as np\n",
    "import netgen.meshing as ngm\n",
    "from netgen.csg import *\n",
    "from netgen.meshing import MeshingStep\n",
    "from ngsolve.comp import IntegrationRuleSpaceSurface"
   ]
  },
  {
   "cell_type": "code",
   "execution_count": 3,
   "id": "468d16f6",
   "metadata": {},
   "outputs": [],
   "source": [
    "from es_utils import pos_transformer"
   ]
  },
  {
   "cell_type": "code",
   "execution_count": 5,
   "id": "db738d81",
   "metadata": {},
   "outputs": [],
   "source": [
    "from geometry import *"
   ]
  },
  {
   "cell_type": "code",
   "execution_count": 6,
   "id": "09b8af8f",
   "metadata": {},
   "outputs": [],
   "source": [
    "from esfem import WillMoreMDR"
   ]
  },
  {
   "cell_type": "code",
   "execution_count": 7,
   "id": "3a7619f1",
   "metadata": {},
   "outputs": [],
   "source": [
    "from ngsolve.webgui import Draw"
   ]
  },
  {
   "cell_type": "code",
   "execution_count": 8,
   "id": "959d65b0",
   "metadata": {},
   "outputs": [],
   "source": [
    "from netgen.occ import SplineApproximation, Pnt, Axis, Face, Wire, Segment, Revolve, OCCGeometry, Z, X, Y\n",
    "#%% Construction of Initial Curved Mesh\n",
    "dim = 3\n",
    "order = 2\n",
    "msize = 0.1\n",
    "dt = Parameter(0)"
   ]
  },
  {
   "cell_type": "markdown",
   "id": "45583004",
   "metadata": {},
   "source": [
    "Perturbed torus\n",
    "\\begin{equation*}\n",
    "    \\begin{pmatrix}\n",
    "(1+0.65\\cos\\varphi)\\cos\\theta\\\\ (1+0.65\\cos\\varphi)\\sin\\theta\\\\\n",
    "0.65\\sin \\varphi + 0.3 \\sin(5 \\theta)\n",
    "    \\end{pmatrix}\n",
    "    =     \\begin{pmatrix}\n",
    "(1+0.65\\cos\\varphi)\\cos\\theta\\\\ (1+0.65\\cos\\varphi)\\sin\\theta\\\\\n",
    "0.65\\sin \\varphi \n",
    "    \\end{pmatrix}\n",
    "    + \n",
    "        \\begin{pmatrix}\n",
    "0\\\\0\\\\\n",
    "0.3 \\sin(5 \\arctan(x,y))\n",
    "    \\end{pmatrix}\n",
    "\\end{equation*}"
   ]
  },
  {
   "cell_type": "code",
   "execution_count": 9,
   "id": "d3df9d77",
   "metadata": {},
   "outputs": [],
   "source": [
    "def GetRotFace(CurveFunc,msize,T_min=-np.pi/2,T_max=np.pi/2,axis=Z,is_close=False,n=100):\n",
    "    '''\n",
    "        Generate Rotational Mesh by revolving a 2d curve (CurveFunc) around an axis (axis)\n",
    "        CurveFunc: function of phi, return (x(phi), 0, z(phi)) for example\n",
    "        axis: axis of rotation, default z-axis: curve on x-z plane around z-axis\n",
    "        is_close: whether the curve is closed (first point = last point)\n",
    "        n: number of points on the curve\n",
    "        T_min, T_max: parameter range of the curve\n",
    "        msize: mesh size\n",
    "        return: mesh \n",
    "    '''\n",
    "    pnts = [CurveFunc(phi) for phi in np.linspace(T_min,T_max,n)]\n",
    "    spline = SplineApproximation(pnts, tol=1e-4)\n",
    "    f = Face(Wire([spline]))\n",
    "    return f"
   ]
  },
  {
   "cell_type": "code",
   "execution_count": 10,
   "id": "ef0c0ab9",
   "metadata": {},
   "outputs": [],
   "source": [
    "def BaseTorus(phi): \n",
    "    a = 0.65\n",
    "    z = a*np.sin(phi)\n",
    "    res = Pnt(1+a*np.cos(phi), 0, z)\n",
    "    return res"
   ]
  },
  {
   "cell_type": "code",
   "execution_count": 11,
   "id": "43230b2c",
   "metadata": {},
   "outputs": [],
   "source": [
    "f = GetRotFace(BaseTorus,0.08,T_min=np.pi,\n",
    "                  T_max=3*np.pi,axis=Z,is_close=True)"
   ]
  },
  {
   "cell_type": "code",
   "execution_count": 12,
   "id": "e799d623",
   "metadata": {},
   "outputs": [],
   "source": [
    "f.edges[0].vertices[0].maxh = 0.05"
   ]
  },
  {
   "cell_type": "code",
   "execution_count": 14,
   "id": "cbae5286",
   "metadata": {},
   "outputs": [],
   "source": [
    "from ngsolve import Mesh"
   ]
  },
  {
   "cell_type": "code",
   "execution_count": 15,
   "id": "ac33da26",
   "metadata": {},
   "outputs": [],
   "source": [
    "torus = f.Revolve(Axis((0,0,0), Z), 360)\n",
    "mesh = Mesh(OCCGeometry(torus).GenerateMesh(maxh=msize,\n",
    "            perfstepsend=ngm.MeshingStep.MESHSURFACE,grading=0.5))"
   ]
  },
  {
   "cell_type": "code",
   "execution_count": 16,
   "id": "d8c8673c",
   "metadata": {},
   "outputs": [
    {
     "data": {
      "application/vnd.jupyter.widget-view+json": {
       "model_id": "00d35ce13ea54d8db4358d877460d53a",
       "version_major": 2,
       "version_minor": 0
      },
      "text/plain": [
       "WebGuiWidget(layout=Layout(height='50vh', width='100%'), value={'gui_settings': {}, 'ngsolve_version': '6.2.23…"
      ]
     },
     "metadata": {},
     "output_type": "display_data"
    },
    {
     "data": {
      "text/plain": [
       "BaseWebGuiScene"
      ]
     },
     "execution_count": 16,
     "metadata": {},
     "output_type": "execute_result"
    }
   ],
   "source": [
    "Draw(x,mesh,\"vv\")"
   ]
  },
  {
   "cell_type": "code",
   "execution_count": 17,
   "id": "10f4cbcb",
   "metadata": {},
   "outputs": [],
   "source": [
    "t = Parameter(0)\n",
    "v = CF((0,0,0.1*sin(5*atan2(y,x))))"
   ]
  },
  {
   "cell_type": "code",
   "execution_count": 18,
   "id": "8511e5a8",
   "metadata": {},
   "outputs": [
    {
     "data": {
      "application/vnd.jupyter.widget-view+json": {
       "model_id": "bca00b79ae7140f7ba118b48d0614865",
       "version_major": 2,
       "version_minor": 0
      },
      "text/plain": [
       "WebGuiWidget(layout=Layout(height='50vh', width='100%'), value={'gui_settings': {}, 'ngsolve_version': '6.2.23…"
      ]
     },
     "metadata": {},
     "output_type": "display_data"
    },
    {
     "data": {
      "text/plain": [
       "BaseWebGuiScene"
      ]
     },
     "execution_count": 18,
     "metadata": {},
     "output_type": "execute_result"
    }
   ],
   "source": [
    "mesh.UnsetDeformation()\n",
    "Draw(Norm(CF((v.Diff(x),v.Diff(y)))),mesh,\"vv\")"
   ]
  },
  {
   "cell_type": "code",
   "execution_count": 19,
   "id": "d1cf1035",
   "metadata": {
    "scrolled": false
   },
   "outputs": [
    {
     "name": "stdout",
     "output_type": "stream",
     "text": [
      "fes order is 1, with ndof is 2534\n",
      "here\n"
     ]
    }
   ],
   "source": [
    "DB_BGN_Obj = WillMoreMDR(mesh,T=1.5,dt=1e-5,order=1)"
   ]
  },
  {
   "cell_type": "code",
   "execution_count": 20,
   "id": "13200c1e",
   "metadata": {
    "scrolled": false
   },
   "outputs": [
    {
     "data": {
      "application/vnd.jupyter.widget-view+json": {
       "model_id": "78c836b470304113bd0f9d060f8ce486",
       "version_major": 2,
       "version_minor": 0
      },
      "text/plain": [
       "WebGuiWidget(layout=Layout(height='50vh', width='100%'), value={'gui_settings': {}, 'ngsolve_version': '6.2.23…"
      ]
     },
     "metadata": {},
     "output_type": "display_data"
    }
   ],
   "source": [
    "sceneu = Draw(x, mesh, 'disp')\n",
    "t_old = 0\n",
    "tauval = 1e-2\n",
    "while t_old < 3:\n",
    "    t.Set(t_old+tauval)\n",
    "    DB_BGN_Obj.nuold.Set(specialcf.normal(3),\n",
    "                         definedon=mesh.Boundaries(\".*\"))\n",
    "    DB_BGN_Obj.Vold.Set(InnerProduct(v,DB_BGN_Obj.nuold),definedon=mesh.Boundaries(\".*\"))\n",
    "    DB_BGN_Obj.LapvSet() # 计算带有切向速度的 DB_BGN_Obj.vold\n",
    "    DB_BGN_Obj.Disp.vec.data += BaseVector(tauval*DB_BGN_Obj.vold.vec.FV().NumPy())\n",
    "    \n",
    "    DB_BGN_Obj.mesh.SetDeformation(DB_BGN_Obj.Disp)\n",
    "    t_old += tauval\n",
    "    sceneu.Redraw()    "
   ]
  },
  {
   "cell_type": "code",
   "execution_count": 21,
   "id": "f4ec3024",
   "metadata": {},
   "outputs": [],
   "source": [
    "import copy\n",
    "tmpv = copy.deepcopy(DB_BGN_Obj.Disp.vec.FV().NumPy())"
   ]
  },
  {
   "cell_type": "code",
   "execution_count": 22,
   "id": "ab36de3c",
   "metadata": {},
   "outputs": [],
   "source": [
    "import numpy as np\n",
    "\n",
    "def param_map(theta, phi, a=1.0, b=0.65, bump=0.0, k=5):\n",
    "    x = (a + b*np.cos(phi)) * np.cos(theta)\n",
    "    y = (a + b*np.cos(phi)) * np.sin(theta)\n",
    "    z = b*np.sin(phi) + bump * np.sin(k*theta)\n",
    "    return x, y, z\n",
    "\n",
    "def generate_grid_with_refine(n_theta=60, n_phi=30, refine_factor=2,\n",
    "                              a=1.0, b=0.65, bump=0.0, k=5,\n",
    "                              r_threshold=1.0, remove_duplicates=True, round_decimals=8):\n",
    "    \"\"\"\n",
    "    返回：合并后的点云 (N,3)。策略：\n",
    "      - 先生成等距粗网格 (n_theta x n_phi) ：保留全部点\n",
    "      - 生成更细的网格 (refine_factor * n_theta, refine_factor * n_phi)\n",
    "        并只保留满足 x^2+y^2 < r_threshold 的细网格点\n",
    "      - 合并粗网格点与这些细网格点（可选去重）\n",
    "    \"\"\"\n",
    "    # 粗网格（不含右端点以避免 seam 重复）\n",
    "    thetas = np.linspace(0, 2*np.pi, n_theta, endpoint=False)\n",
    "    phis   = np.linspace(-np.pi, np.pi, n_phi, endpoint=False)\n",
    "    Theta, Phi = np.meshgrid(thetas, phis, indexing='ij')  # shape (n_theta, n_phi)\n",
    "\n",
    "    x, y, z = param_map(Theta, Phi, a=a, b=b, bump=bump, k=k)\n",
    "    coords_coarse = np.column_stack([x.ravel(), y.ravel(), z.ravel()])\n",
    "\n",
    "    # 细网格\n",
    "    n_theta_f = n_theta * refine_factor\n",
    "    n_phi_f   = n_phi * refine_factor\n",
    "    thetas_f = np.linspace(0, 2*np.pi, n_theta_f, endpoint=False)\n",
    "    phis_f   = np.linspace(-np.pi/10, np.pi/10, n_phi_f, endpoint=False)\n",
    "    phis_f2   = np.linspace(np.pi-np.pi/10, np.pi+np.pi/10, n_phi_f, endpoint=False)\n",
    "    Theta_f, Phi_f = np.meshgrid(thetas_f, np.concatenate([phis_f,phis_f2]), indexing='ij')\n",
    "\n",
    "    x_f, y_f, z_f = param_map(Theta_f, Phi_f, a=a, b=b, bump=bump, k=k)\n",
    "    mask_f = (x_f**2 + y_f**2) < r_threshold\n",
    "    coords_fine_masked = np.column_stack([x_f[mask_f], y_f[mask_f], z_f[mask_f]])\n",
    "\n",
    "    # 合并：保留所有粗网格点 + 加密区域的细点\n",
    "    coords_all = np.vstack([coords_coarse, coords_fine_masked])\n",
    "\n",
    "    if remove_duplicates:\n",
    "        # 去重：按网格坐标四舍五入后用 np.unique 去重（保守且简单）\n",
    "        coords_round = np.round(coords_all, decimals=round_decimals)\n",
    "        # np.unique 对行去重\n",
    "        coords_unique = np.unique(coords_round, axis=0)\n",
    "        return coords_unique\n",
    "\n",
    "    return coords_all\n",
    "\n",
    "pts = generate_grid_with_refine(n_theta=800, n_phi=400, refine_factor=4,\n",
    "                                a=1.0, b=0.65, bump=0.3, k=5,\n",
    "                                r_threshold=1.0, remove_duplicates=True)"
   ]
  },
  {
   "cell_type": "code",
   "execution_count": 23,
   "id": "4a172ab5",
   "metadata": {},
   "outputs": [],
   "source": [
    "Vertices_Coords = DB_BGN_Obj.Get_Vertices_Coords()"
   ]
  },
  {
   "cell_type": "code",
   "execution_count": 24,
   "id": "add614b8",
   "metadata": {
    "scrolled": true
   },
   "outputs": [],
   "source": [
    "from scipy.spatial import cKDTree\n",
    "# 构建 kd-tree\n",
    "tree = cKDTree(pts)\n",
    "distances, indices = tree.query(Vertices_Coords, k=1) \n",
    "\n",
    "disp = pts[indices,:] - Vertices_Coords"
   ]
  },
  {
   "cell_type": "code",
   "execution_count": 25,
   "id": "863f20d5",
   "metadata": {},
   "outputs": [],
   "source": [
    "DB_BGN_Obj.Disp.vec.data = BaseVector(tmpv + disp.flatten(\"F\"))"
   ]
  },
  {
   "cell_type": "code",
   "execution_count": 26,
   "id": "ca999696",
   "metadata": {},
   "outputs": [],
   "source": [
    "DB_BGN_Obj.mesh.SetDeformation(DB_BGN_Obj.Disp)"
   ]
  },
  {
   "cell_type": "code",
   "execution_count": 27,
   "id": "eb1effc4",
   "metadata": {
    "scrolled": false
   },
   "outputs": [
    {
     "data": {
      "application/vnd.jupyter.widget-view+json": {
       "model_id": "d2fef98943574005993059f49e8381bb",
       "version_major": 2,
       "version_minor": 0
      },
      "text/plain": [
       "WebGuiWidget(layout=Layout(height='50vh', width='100%'), value={'gui_settings': {}, 'ngsolve_version': '6.2.23…"
      ]
     },
     "metadata": {},
     "output_type": "display_data"
    },
    {
     "data": {
      "text/plain": [
       "BaseWebGuiScene"
      ]
     },
     "execution_count": 27,
     "metadata": {},
     "output_type": "execute_result"
    }
   ],
   "source": [
    "Draw(x, DB_BGN_Obj.mesh, 'disp')"
   ]
  },
  {
   "cell_type": "code",
   "execution_count": 28,
   "id": "cf1fd84a",
   "metadata": {},
   "outputs": [
    {
     "name": "stdout",
     "output_type": "stream",
     "text": [
      "../../../data/order_1_wave.vol\n"
     ]
    }
   ],
   "source": [
    "order = 1\n",
    "mesh_name = \"../../../data/order_{}_wave.vol\".format(order)\n",
    "DB_BGN_Obj.mesh.ngmesh.Save (mesh_name)\n",
    "print(mesh_name)\n",
    "\n",
    "np.savez(\"../../../data/order_{}_deformation_wave.npz\".format(order), \n",
    "         deform=DB_BGN_Obj.Disp.vec.FV().NumPy())"
   ]
  },
  {
   "cell_type": "markdown",
   "id": "d56715f7",
   "metadata": {},
   "source": [
    "### 如何得到二次的deformation"
   ]
  },
  {
   "cell_type": "code",
   "execution_count": null,
   "id": "763787de",
   "metadata": {},
   "outputs": [],
   "source": []
  }
 ],
 "metadata": {
  "kernelspec": {
   "display_name": "Python 3 (ipykernel)",
   "language": "python",
   "name": "python3"
  },
  "language_info": {
   "codemirror_mode": {
    "name": "ipython",
    "version": 3
   },
   "file_extension": ".py",
   "mimetype": "text/x-python",
   "name": "python",
   "nbconvert_exporter": "python",
   "pygments_lexer": "ipython3",
   "version": "3.10.6"
  }
 },
 "nbformat": 4,
 "nbformat_minor": 5
}
